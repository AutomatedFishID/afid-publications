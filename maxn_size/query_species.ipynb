{
 "cells": [
  {
   "cell_type": "code",
   "execution_count": null,
   "id": "2f10a84c-cd08-46db-84bd-14ad3532a876",
   "metadata": {},
   "outputs": [],
   "source": [
    "#!/usr/bin/env -S python3 -u\n",
    "import time\n",
    "import json\n",
    "\n",
    "import requests\n",
    "import os\n",
    "\n",
    "import yaml\n",
    "\n"
   ]
  },
  {
   "cell_type": "code",
   "execution_count": null,
   "id": "58eff18d-1cec-4365-8ef5-a64377f4e8cc",
   "metadata": {},
   "outputs": [],
   "source": [
    "\n",
    "# Replace 'config.yaml' with the path to your YAML configuration file\n",
    "config_file_path = 'config.yaml'\n",
    "\n",
    "with open(config_file_path, 'r') as file:\n",
    "    config = yaml.safe_load(file)\n",
    "\n",
    "print(config)\n"
   ]
  },
  {
   "cell_type": "code",
   "execution_count": null,
   "id": "5678d5c1-a0ad-4b7d-8585-96c0e83e5de5",
   "metadata": {},
   "outputs": [],
   "source": [
    "API_TOKEN = os.environ.get('AFID_TOKEN','')\n",
    "OUTPUT_FILE = \"./coco-export.json\"\n",
    "\n"
   ]
  },
  {
   "cell_type": "code",
   "execution_count": null,
   "id": "cf789919-4fec-4beb-bece-6d9134c34024",
   "metadata": {},
   "outputs": [],
   "source": [
    "target_labels = [\n",
    "    (\"lethrinidae\", \"lethrinus\", \"atkinsoni\"),\n",
    "    (\"terapontidae\", \"pelates\", \"octolineatus\"),\n",
    "]"
   ]
  },
  {
   "cell_type": "code",
   "execution_count": null,
   "id": "ae6620af-ed04-4158-a159-d5faf5767713",
   "metadata": {},
   "outputs": [],
   "source": [
    "\n",
    "\n",
    "query_struct = {\n",
    "    \"op\": \"OR\",\n",
    "    \"args\": [\n",
    "        {\n",
    "            \"op\": \"AND\",\n",
    "            \"args\": [\n",
    "                { \"op\": \"Q\", \"args\": [\"family\", \"iexact\", family ] },\n",
    "                { \"op\": \"Q\", \"args\": [\"genus\", \"iexact\", genus ] },\n",
    "                { \"op\": \"Q\", \"args\": [\"species\", \"iexact\", species ] }\n",
    "            ]\n",
    "        }\n",
    "        for family, genus, species in target_labels\n",
    "    ]\n",
    "}\n",
    "\n",
    "def start_export():\n",
    "    \"\"\"\n",
    "    Initiate the export task and return its ID.\n",
    "    \"\"\"\n",
    "    api_url = f\"{config['app']['url']}\"\n",
    "\n",
    "    res = requests.post(\n",
    "        api_url,\n",
    "        headers={\"Authorization\": f\"Token {API_TOKEN}\"},\n",
    "        json={\"filter\": query_struct}\n",
    "    )\n",
    "\n",
    "    res.raise_for_status()\n",
    "\n",
    "    return res.json()[\"task_id\"]\n",
    "\n",
    "\n",
    "def get_export_results(task_id):\n",
    "    \"\"\"\n",
    "    Get the results of a running export task.\n",
    "    Blocks until the task has completed.\n",
    "    \"\"\"\n",
    "    while True:\n",
    "        api_url = f\"{config['app']['url']}{task_id}\"\n",
    "\n",
    "        res = requests.get(\n",
    "            api_url,\n",
    "            headers={\"Authorization\": f\"Token {API_TOKEN}\"},\n",
    "        )\n",
    "\n",
    "        res.raise_for_status()\n",
    "        res = res.json()\n",
    "\n",
    "        if res[\"status\"] == \"error\":\n",
    "            raise Exception(\"Server encountered an error while processing the error.\")\n",
    "        elif res[\"status\"] == \"complete\":\n",
    "            return res[\"results\"]\n",
    "\n",
    "        print(\".\", end=\"\")\n",
    "        time.sleep(2)\n",
    "\n",
    "\n",
    "def main():\n",
    "    print(\"Running export...\", end=\"\")\n",
    "    task_id = start_export()\n",
    "    results = get_export_results(task_id)\n",
    "\n",
    "    with open(OUTPUT_FILE, \"w\") as f:\n",
    "        json.dump(results, f)\n",
    "\n",
    "    print('Done')\n",
    "\n",
    "if __name__ == \"__main__\":\n",
    "    main()"
   ]
  },
  {
   "cell_type": "code",
   "execution_count": null,
   "id": "7a6278b2-9b63-4968-b739-7b23afa0a1ac",
   "metadata": {},
   "outputs": [],
   "source": []
  },
  {
   "cell_type": "code",
   "execution_count": null,
   "id": "c4c82744-36f2-449e-ab08-ef57a9e4033a",
   "metadata": {},
   "outputs": [],
   "source": [
    "GIT_TOKEN = os.environ.get(\"GITHUB_TOKEN\")\n",
    "images_dir = 'images'\n",
    "!python3 fetch_coco_images.py ./coco-export.json {GIT_TOKEN} -o {images_dir}"
   ]
  },
  {
   "cell_type": "code",
   "execution_count": null,
   "id": "e0d86d3e-ffbc-46a8-a261-d5254676b49b",
   "metadata": {},
   "outputs": [],
   "source": [
    "print(GIT_TOKEN)"
   ]
  },
  {
   "cell_type": "code",
   "execution_count": null,
   "id": "49ff8457-7066-4a7e-9af7-516e03e39590",
   "metadata": {},
   "outputs": [],
   "source": [
    "access_key = os.environ.get('AFID_APP_ACCESS_KEY')\n",
    "secret_key = os.environ.get('AFID_APP_SECRET_KEY')"
   ]
  },
  {
   "cell_type": "code",
   "execution_count": null,
   "id": "338d8be2-2bac-49e7-94ec-68e324f6f176",
   "metadata": {},
   "outputs": [],
   "source": [
    "print(access_key)"
   ]
  },
  {
   "cell_type": "code",
   "execution_count": null,
   "id": "195708cd-2f8e-4acb-8e5f-51ee358dd55e",
   "metadata": {},
   "outputs": [],
   "source": [
    "print(secret_key)"
   ]
  },
  {
   "cell_type": "code",
   "execution_count": null,
   "id": "473e9e80-3b76-464d-8580-b9598f8ace25",
   "metadata": {},
   "outputs": [],
   "source": []
  }
 ],
 "metadata": {
  "kernelspec": {
   "display_name": "Python 3 (ipykernel)",
   "language": "python",
   "name": "python3"
  },
  "language_info": {
   "codemirror_mode": {
    "name": "ipython",
    "version": 3
   },
   "file_extension": ".py",
   "mimetype": "text/x-python",
   "name": "python",
   "nbconvert_exporter": "python",
   "pygments_lexer": "ipython3",
   "version": "3.9.19"
  }
 },
 "nbformat": 4,
 "nbformat_minor": 5
}
